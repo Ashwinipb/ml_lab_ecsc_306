{
 "cells": [
  {
   "cell_type": "code",
   "execution_count": 2,
   "metadata": {},
   "outputs": [
    {
     "name": "stdout",
     "output_type": "stream",
     "text": [
      "2.35\n",
      "1.85\n",
      "[[-0.04999995  3.05000019 -1.44999993 -1.54999995]]\n",
      "[[-1.54999995 -1.44999993  1.05000019  1.95000005]]\n",
      "[[  2.49999529e-03   9.30250072e+00   2.10249972e+00   2.40249991e+00]]\n",
      "13.81\n",
      "[[ 0.07749993 -4.42250013 -1.52250016 -3.02250004]]\n",
      "-8.89\n",
      "-0.643736\n",
      "-1.51278\n",
      "3.36278\n"
     ]
    }
   ],
   "source": [
    "import tensorflow as tf\n",
    "x=tf.constant([2.3,5.4,0.9,0.8],shape=[1,4],name='x')\n",
    "y=tf.constant([0.3,0.4,2.9,3.8],shape=[1,4],name='y')\n",
    "with tf.name_scope(\"mean\"):\n",
    "    with tf.name_scope(\"mean_of_x_y\"):\n",
    "        x1=tf.reduce_mean(x)\n",
    "        y1=tf.reduce_mean(y)\n",
    "        sess=tf.Session()\n",
    "    print(sess.run(x1))\n",
    "    print(sess.run(y1))\n",
    "with tf.name_scope(\"variance\"):\n",
    "    with tf.name_scope(\"scope_SUB1\"):\n",
    "        a=tf.subtract(x,x1)\n",
    "        sess1=tf.Session()\n",
    "    print(sess1.run(a))\n",
    "    with tf.name_scope(\"scope_SUB2\"):\n",
    "        b=tf.subtract(y,y1)\n",
    "        sess2=tf.Session()\n",
    "    print(sess2.run(b))\n",
    "    with tf.name_scope(\"scope_sqr\"):\n",
    "        a1=tf.multiply(a,a)\n",
    "        sess3=tf.Session()\n",
    "    print(sess3.run(a1))\n",
    "    with tf.name_scope(\"scope_of_Summation\"):\n",
    "        var=tf.reduce_sum(a1)\n",
    "        sess4=tf.Session()\n",
    "    print(sess4.run(var))\n",
    "with tf.name_scope(\"covariance\"):\n",
    "    with tf.name_scope(\"Multiplication\"):\n",
    "        mul1=tf.multiply(a,b)\n",
    "        sess5=tf.Session()\n",
    "    print(sess5.run(mul1))\n",
    "    with tf.name_scope(\"scope_of_Summation2\"):\n",
    "        mul2=tf.reduce_sum(mul1)\n",
    "        sess6=tf.Session()\n",
    "    print(sess6.run(mul2))\n",
    "with tf.name_scope(\"value_of_c\"):\n",
    "    with tf.name_scope(\"Division\"):\n",
    "        c=tf.divide(mul2,var)\n",
    "        sess7=tf.Session()\n",
    "        print(sess7.run(c))\n",
    "with tf.name_scope(\"value_of_m\"):\n",
    "    with tf.name_scope(\"Multiplication2\"):\n",
    "            c1=tf.multiply(c,x1)\n",
    "            sess8=tf.Session()\n",
    "            print(sess8.run(c1))\n",
    "    with tf.name_scope(\"scope_SUB3\"):\n",
    "            c2=tf.subtract(y1,c1)\n",
    "            sess9=tf.Session()\n",
    "            print(sess9.run(c2))    \n",
    "            writer = tf.summary.FileWriter(\"/tmp/tboard/lab2\", sess.graph)\n",
    "            writer.close()"
   ]
  },
  {
   "cell_type": "code",
   "execution_count": null,
   "metadata": {
    "collapsed": true
   },
   "outputs": [],
   "source": []
  }
 ],
 "metadata": {
  "kernelspec": {
   "display_name": "Python 3",
   "language": "python",
   "name": "python3"
  },
  "language_info": {
   "codemirror_mode": {
    "name": "ipython",
    "version": 3
   },
   "file_extension": ".py",
   "mimetype": "text/x-python",
   "name": "python",
   "nbconvert_exporter": "python",
   "pygments_lexer": "ipython3",
   "version": "3.6.1"
  }
 },
 "nbformat": 4,
 "nbformat_minor": 2
}
